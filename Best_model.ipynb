{
  "nbformat": 4,
  "nbformat_minor": 0,
  "metadata": {
    "colab": {
      "provenance": [],
      "authorship_tag": "ABX9TyPFPnliLYB/tpxc6S7C2mM/",
      "include_colab_link": true
    },
    "kernelspec": {
      "name": "python3",
      "display_name": "Python 3"
    },
    "language_info": {
      "name": "python"
    }
  },
  "cells": [
    {
      "cell_type": "markdown",
      "metadata": {
        "id": "view-in-github",
        "colab_type": "text"
      },
      "source": [
        "<a href=\"https://colab.research.google.com/github/rcharan05/UGP/blob/main/Best_model.ipynb\" target=\"_parent\"><img src=\"https://colab.research.google.com/assets/colab-badge.svg\" alt=\"Open In Colab\"/></a>"
      ]
    },
    {
      "cell_type": "markdown",
      "source": [
        "Install and import all dependencies, load all the needed data"
      ],
      "metadata": {
        "id": "5mA4txfE-hyo"
      }
    },
    {
      "cell_type": "code",
      "execution_count": 1,
      "metadata": {
        "colab": {
          "base_uri": "https://localhost:8080/"
        },
        "id": "p6djjjGg8gjC",
        "outputId": "d2af0373-ceef-4625-d2ea-c210811a1391"
      },
      "outputs": [
        {
          "output_type": "stream",
          "name": "stdout",
          "text": [
            "\u001b[?25l   \u001b[90m━━━━━━━━━━━━━━━━━━━━━━━━━━━━━━━━━━━━━━━━\u001b[0m \u001b[32m0.0/97.7 kB\u001b[0m \u001b[31m?\u001b[0m eta \u001b[36m-:--:--\u001b[0m\r\u001b[2K   \u001b[90m━━━━━━━━━━━━━━━━━━━━━━━━━━━━━━━━━━━━━━━━\u001b[0m \u001b[32m97.7/97.7 kB\u001b[0m \u001b[31m3.3 MB/s\u001b[0m eta \u001b[36m0:00:00\u001b[0m\n",
            "\u001b[?25hMounted at /content/drive\n",
            "Max‐Ensemble Top-k Accuracies: {1: np.float64(20.08752735229759), 5: np.float64(25.076586433260395), 10: np.float64(28.315098468271334)}\n",
            "Best α = 0.40\n",
            "Weighted‐Ensemble Top-k Accuracies: {1: np.float64(19.956236323851204), 5: np.float64(25.38293216630197), 10: np.float64(28.183807439824943)}\n"
          ]
        }
      ],
      "source": [
        "# 0. Install & imports\n",
        "!pip install -q pose-format scikit-learn\n",
        "\n",
        "import os\n",
        "import numpy as np\n",
        "import pandas as pd\n",
        "from sklearn.preprocessing import normalize\n",
        "from sklearn.decomposition import PCA\n",
        "from google.colab import drive\n",
        "\n",
        "# 1. Mount Drive & set paths\n",
        "drive.mount('/content/drive', force_remount=True)\n",
        "DATA_DIR  = \"/content/drive/MyDrive/UGP\"\n",
        "PROTO_CSV = os.path.join(DATA_DIR, \"prototype.csv\")\n",
        "TEST_CSV  = os.path.join(DATA_DIR, \"test.csv\")\n",
        "I3D_PKL   = os.path.join(DATA_DIR, \"I3D_features.pkl\")\n",
        "\n",
        "# 2. Read splits\n",
        "proto_df = pd.read_csv(PROTO_CSV)\n",
        "test_df  = pd.read_csv(TEST_CSV)\n",
        "proto_df[\"gloss\"] = proto_df[\"gloss\"].astype(str)\n",
        "test_df[\"gloss\"]  = test_df[\"gloss\"].astype(str)\n",
        "\n",
        "uids_train = proto_df[\"uid\"].tolist()\n",
        "uids_test  = test_df[\"uid\"].tolist()\n",
        "y_train    = proto_df[\"gloss\"].tolist()\n",
        "y_test     = test_df[\"gloss\"].tolist()\n",
        "\n",
        "# 3. Load I3D features\n",
        "i3d_df = pd.read_pickle(I3D_PKL)\n",
        "i3d_raw = {\n",
        "    row[\"id\"]: np.array(row[\"I3D_features\"], dtype=np.float32).squeeze((0,3,4))\n",
        "    for _, row in i3d_df.iterrows()\n",
        "}"
      ]
    },
    {
      "cell_type": "markdown",
      "source": [
        "All the pooling functions and evaluation functions defined"
      ],
      "metadata": {
        "id": "MHxpGfJK_Dit"
      }
    },
    {
      "cell_type": "code",
      "source": [
        "# 4. Define pooling, PCA & similarity\n",
        "def ssr_pool(arr):\n",
        "    mn, mx, sd = arr.min(1), arr.max(1), arr.std(1)\n",
        "    feat = np.concatenate([mn, mx, sd], axis=0)\n",
        "    feat = np.sign(feat) * np.sqrt(np.abs(feat) + 1e-8)\n",
        "    return normalize(feat[None], axis=1).ravel()\n",
        "\n",
        "def gem_pool(arr, p=3.0, eps=1e-6):\n",
        "    feat = (np.mean((arr+eps)**p, axis=1) + eps)**(1.0/p)\n",
        "    return normalize(feat[None], axis=1).ravel()\n",
        "\n",
        "def pca_whiten(Xtr, Xte, n_comp):\n",
        "    pca = PCA(n_components=n_comp, whiten=True, random_state=0)\n",
        "    T = pca.fit_transform(Xtr)\n",
        "    Q = pca.transform(Xte)\n",
        "    return normalize(T, axis=1), normalize(Q, axis=1)\n",
        "\n",
        "def build_features(pool_type, pca_comp, gem_p=None):\n",
        "    if pool_type == \"ssr\":\n",
        "        Xtr = np.stack([ssr_pool(i3d_raw[u]) for u in uids_train])\n",
        "        Xte = np.stack([ssr_pool(i3d_raw[u]) for u in uids_test])\n",
        "    elif pool_type == \"gem\":\n",
        "        Xtr = np.stack([gem_pool(i3d_raw[u], p=gem_p) for u in uids_train])\n",
        "        Xte = np.stack([gem_pool(i3d_raw[u], p=gem_p) for u in uids_test])\n",
        "    else:\n",
        "        raise ValueError(pool_type)\n",
        "    return pca_whiten(Xtr, Xte, n_comp=pca_comp)\n",
        "\n",
        "def cosine_sim(Xq, Xg):\n",
        "    return Xq.dot(Xg.T)\n",
        "\n",
        "def topk_acc(S, y_train, y_test, ks=[1,5,10]):\n",
        "    ranks = np.argsort(-S, axis=1)\n",
        "    out = {}\n",
        "    for k in ks:\n",
        "        topk = ranks[:, :k]\n",
        "        correct = [\n",
        "            y_test[i] in [y_train[j] for j in topk[i]]\n",
        "            for i in range(len(y_test))\n",
        "        ]\n",
        "        out[k] = np.mean(correct) * 100\n",
        "    return out"
      ],
      "metadata": {
        "id": "eRvzkA6--pi2"
      },
      "execution_count": null,
      "outputs": []
    },
    {
      "cell_type": "markdown",
      "source": [
        "Best hyper-parameters are gotten from grid searching"
      ],
      "metadata": {
        "id": "I3zzET_X_HtQ"
      }
    },
    {
      "cell_type": "code",
      "source": [
        "# 5. Compute similarity matrices with best hyper-params\n",
        "best_ssr_pca = 1024\n",
        "best_gem_pca = 1024\n",
        "best_gem_p   = 4.0\n"
      ],
      "metadata": {
        "id": "ieaYClOB-wVJ"
      },
      "execution_count": null,
      "outputs": []
    },
    {
      "cell_type": "markdown",
      "source": [
        "The SSR (mean, max, std-dev) and GeM feature sets are built"
      ],
      "metadata": {
        "id": "mI4ZvGIX_LKD"
      }
    },
    {
      "cell_type": "code",
      "source": [
        "Xtr_ssr, Xte_ssr = build_features(\"ssr\", best_ssr_pca)\n",
        "S_ssr = cosine_sim(Xte_ssr, Xtr_ssr)\n",
        "\n",
        "Xtr_gem, Xte_gem = build_features(\"gem\", best_gem_pca, gem_p=best_gem_p)\n",
        "S_gem = cosine_sim(Xte_gem, Xtr_gem)\n"
      ],
      "metadata": {
        "id": "Fu_22IAU-4VY"
      },
      "execution_count": null,
      "outputs": []
    },
    {
      "cell_type": "markdown",
      "source": [
        "Both the above matrices are compared and element-wise maximum is taken"
      ],
      "metadata": {
        "id": "QyhD4IKR_T7t"
      }
    },
    {
      "cell_type": "code",
      "source": [
        "# 6a. Ensemble via element-wise max\n",
        "S_max = np.maximum(S_ssr, S_gem)\n",
        "acc_max = topk_acc(S_max, y_train, y_test)\n",
        "print(\"Max‐Ensemble Top-k Accuracies:\", acc_max)"
      ],
      "metadata": {
        "id": "qzPZf0se-0KY"
      },
      "execution_count": null,
      "outputs": []
    },
    {
      "cell_type": "markdown",
      "source": [
        "Both the matrices are compared and the elements are fused with hyper-parameter alpha which is gotten from grid-searching"
      ],
      "metadata": {
        "id": "1B3OYN_n_bVk"
      }
    },
    {
      "cell_type": "code",
      "source": [
        "# 6b. Ensemble via weighted sum (grid-search α)\n",
        "alphas = np.linspace(0, 1, 21)\n",
        "best_alpha, best_top1 = None, -1\n",
        "best_accs = None\n",
        "\n",
        "for alpha in alphas:\n",
        "    S_w = alpha * S_ssr + (1 - alpha) * S_gem\n",
        "    accs = topk_acc(S_w, y_train, y_test)\n",
        "    if accs[1] > best_top1:\n",
        "        best_top1 = accs[1]\n",
        "        best_alpha = alpha\n",
        "        best_accs = accs"
      ],
      "metadata": {
        "id": "FZaQs_JY-7aB"
      },
      "execution_count": null,
      "outputs": []
    },
    {
      "cell_type": "code",
      "source": [
        "print(f\"Best α = {best_alpha:.2f}\")\n",
        "print(\"Weighted‐Ensemble Top-k Accuracies:\", best_accs)"
      ],
      "metadata": {
        "id": "LNoGK-SX_ARz"
      },
      "execution_count": null,
      "outputs": []
    },
    {
      "cell_type": "markdown",
      "source": [
        "We try with ZCA instead of PCA-Whitening"
      ],
      "metadata": {
        "id": "Lr3PaUL7_pYS"
      }
    },
    {
      "cell_type": "code",
      "source": [
        "# 4. Pooling functions\n",
        "def ssr_pool(arr):\n",
        "    mn, mx, sd = arr.min(1), arr.max(1), arr.std(1)\n",
        "    feat = np.concatenate([mn, mx, sd], axis=0)\n",
        "    feat = np.sign(feat) * np.sqrt(np.abs(feat) + 1e-8)\n",
        "    return normalize(feat[None], axis=1).ravel()\n",
        "\n",
        "def gem_pool(arr, p=3.0, eps=1e-6):\n",
        "    feat = (np.mean((arr+eps)**p, axis=1) + eps)**(1.0/p)\n",
        "    return normalize(feat[None], axis=1).ravel()\n",
        "\n",
        "# 5. ZCA whitening\n",
        "def zca_whiten(Xtr, Xte, eps=1e-6):\n",
        "    mu    = Xtr.mean(axis=0)\n",
        "    Xtr_c = Xtr - mu\n",
        "    Xte_c = Xte - mu\n",
        "    sigma = np.cov(Xtr_c, rowvar=False)\n",
        "    U, S, _ = np.linalg.svd(sigma, full_matrices=False)\n",
        "    W_zca = U @ np.diag(1.0/np.sqrt(S + eps)) @ U.T\n",
        "    Xtr_zca = Xtr_c @ W_zca\n",
        "    Xte_zca = Xte_c @ W_zca\n",
        "    return normalize(Xtr_zca, axis=1), normalize(Xte_zca, axis=1)\n",
        "\n",
        "# 6. Feature builder with ZCA\n",
        "def build_features(pool_type, gem_p=None):\n",
        "    if pool_type == \"ssr\":\n",
        "        Xtr = np.stack([ssr_pool(i3d_raw[u]) for u in uids_train])\n",
        "        Xte = np.stack([ssr_pool(i3d_raw[u]) for u in uids_test])\n",
        "    elif pool_type == \"gem\":\n",
        "        Xtr = np.stack([gem_pool(i3d_raw[u], p=gem_p) for u in uids_train])\n",
        "        Xte = np.stack([gem_pool(i3d_raw[u], p=gem_p) for u in uids_test])\n",
        "    else:\n",
        "        raise ValueError(f\"Unknown pool_type {pool_type}\")\n",
        "    return zca_whiten(Xtr, Xte)"
      ],
      "metadata": {
        "colab": {
          "base_uri": "https://localhost:8080/"
        },
        "id": "-8_0Pb9M9Umo",
        "outputId": "97aad9d6-067f-46f7-b4fc-cb830145decf"
      },
      "execution_count": 3,
      "outputs": [
        {
          "output_type": "stream",
          "name": "stdout",
          "text": [
            "Mounted at /content/drive\n",
            "Best GeM p = 4.0 → Top-1: 19.52%\n",
            "Max‐Ensemble Top-k Accuracies: {1: np.float64(19.51859956236324), 5: np.float64(24.770240700218817), 10: np.float64(27.702407002188185)}\n",
            "Best α = 0.50\n",
            "Weighted‐Ensemble Top-k Accuracies: {1: np.float64(20.13129102844639), 5: np.float64(25.38293216630197), 10: np.float64(28.577680525164112)}\n"
          ]
        }
      ]
    },
    {
      "cell_type": "markdown",
      "source": [
        "Build the SSR similarity matrix"
      ],
      "metadata": {
        "id": "ujVpGOkVAA2Q"
      }
    },
    {
      "cell_type": "code",
      "source": [
        "# 8. Build SSR similarity\n",
        "Xtr_ssr, Xte_ssr = build_features(\"ssr\")\n",
        "S_ssr = cosine_sim(Xte_ssr, Xtr_ssr)"
      ],
      "metadata": {
        "id": "SU_qA9mh997c"
      },
      "execution_count": null,
      "outputs": []
    },
    {
      "cell_type": "markdown",
      "source": [
        "Re-search for the best p for GeM"
      ],
      "metadata": {
        "id": "KbxpuialAFeX"
      }
    },
    {
      "cell_type": "code",
      "source": [
        "# 9. Grid‐search best GeM p\n",
        "GEM_PS = [2.0, 3.0, 4.0]\n",
        "best_gem_p, best_gem_acc = None, -1\n",
        "for p in GEM_PS:\n",
        "    Xtr_gem, Xte_gem = build_features(\"gem\", gem_p=p)\n",
        "    S_gem_tmp = cosine_sim(Xte_gem, Xtr_gem)\n",
        "    acc1 = topk_acc(S_gem_tmp, y_train, y_test)[1]\n",
        "    if acc1 > best_gem_acc:\n",
        "        best_gem_acc = acc1\n",
        "        best_gem_p   = p\n",
        "\n",
        "# 10. Build GeM similarity with best p\n",
        "Xtr_gem, Xte_gem = build_features(\"gem\", gem_p=best_gem_p)\n",
        "S_gem = cosine_sim(Xte_gem, Xtr_gem)\n",
        "print(f\"Best GeM p = {best_gem_p:.1f} → Top-1: {best_gem_acc:.2f}%\")"
      ],
      "metadata": {
        "id": "3tml8Rl2_2Bh"
      },
      "execution_count": null,
      "outputs": []
    },
    {
      "cell_type": "markdown",
      "source": [
        "The two ensemble matrices are built with similar logic as before"
      ],
      "metadata": {
        "id": "CgbiNKDlAJ3l"
      }
    },
    {
      "cell_type": "code",
      "source": [
        "# 11a. Ensemble via elementwise max\n",
        "S_max = np.maximum(S_ssr, S_gem)\n",
        "acc_max = topk_acc(S_max, y_train, y_test)\n",
        "print(\"Max‐Ensemble Top-k Accuracies:\", acc_max)\n"
      ],
      "metadata": {
        "id": "HnLvyNIn_40B"
      },
      "execution_count": null,
      "outputs": []
    },
    {
      "cell_type": "code",
      "source": [
        "# 11b. Ensemble via weighted sum (α grid-search)\n",
        "alphas = np.linspace(0, 1, 21)\n",
        "best_alpha, best_top1, best_weighted = None, -1, None\n",
        "for alpha in alphas:\n",
        "    S_w = alpha * S_ssr + (1 - alpha) * S_gem\n",
        "    accs = topk_acc(S_w, y_train, y_test)\n",
        "    if accs[1] > best_top1:\n",
        "        best_top1    = accs[1]\n",
        "        best_alpha   = alpha\n",
        "        best_weighted = accs"
      ],
      "metadata": {
        "id": "miOKSusE_7It"
      },
      "execution_count": null,
      "outputs": []
    },
    {
      "cell_type": "markdown",
      "source": [
        "Printing the results"
      ],
      "metadata": {
        "id": "EPEXXwqaANi5"
      }
    },
    {
      "cell_type": "code",
      "source": [
        "print(f\"Best α = {best_alpha:.2f}\")\n",
        "print(\"Weighted‐Ensemble Top-k Accuracies:\", best_weighted)"
      ],
      "metadata": {
        "id": "xLgnq0F9_88a"
      },
      "execution_count": null,
      "outputs": []
    },
    {
      "cell_type": "markdown",
      "source": [
        "Best GeM p = 4.0 → Top-1: 19.52%\n",
        "\n",
        "Max‐Ensemble Top-k Accuracies: {1: np.float64(19.51859956236324), 5: np.float64(24.770240700218817), 10: np.float64(27.702407002188185)}\n",
        "\n",
        "Best α = 0.50\n",
        "Weighted‐Ensemble Top-k Accuracies: {1: np.float64(20.13129102844639), 5: np.float64(25.38293216630197), 10: np.float64(28.577680525164112)}"
      ],
      "metadata": {
        "id": "cRnzV57CAve-"
      }
    }
  ]
}