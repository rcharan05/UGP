{
  "nbformat": 4,
  "nbformat_minor": 0,
  "metadata": {
    "colab": {
      "provenance": [],
      "gpuType": "T4",
      "authorship_tag": "ABX9TyNxvHoqxn0LaQMCZHVwgiZH",
      "include_colab_link": true
    },
    "kernelspec": {
      "name": "python3",
      "display_name": "Python 3"
    },
    "language_info": {
      "name": "python"
    },
    "accelerator": "GPU"
  },
  "cells": [
    {
      "cell_type": "markdown",
      "metadata": {
        "id": "view-in-github",
        "colab_type": "text"
      },
      "source": [
        "<a href=\"https://colab.research.google.com/github/rcharan05/UGP/blob/main/Mahalanobis%2C_PCA_and_Velocity.ipynb\" target=\"_parent\"><img src=\"https://colab.research.google.com/assets/colab-badge.svg\" alt=\"Open In Colab\"/></a>"
      ]
    },
    {
      "cell_type": "markdown",
      "source": [
        "#Mounting drive, installing libraries and loading dataset"
      ],
      "metadata": {
        "id": "fXEFJkDC3Zsk"
      }
    },
    {
      "cell_type": "code",
      "execution_count": null,
      "metadata": {
        "colab": {
          "base_uri": "https://localhost:8080/"
        },
        "id": "g8Om5N0OQoF5",
        "outputId": "2030f1a1-2c64-4019-f44f-9d293690c622"
      },
      "outputs": [
        {
          "output_type": "stream",
          "name": "stdout",
          "text": [
            "Mounted at /content/drive\n",
            "\u001b[2K   \u001b[90m━━━━━━━━━━━━━━━━━━━━━━━━━━━━━━━━━━━━━━━━\u001b[0m \u001b[32m97.7/97.7 kB\u001b[0m \u001b[31m2.0 MB/s\u001b[0m eta \u001b[36m0:00:00\u001b[0m\n",
            "\u001b[?25h"
          ]
        }
      ],
      "source": [
        "from google.colab import drive\n",
        "drive.mount('/content/drive')\n",
        "!pip install -q pose-format"
      ]
    },
    {
      "cell_type": "code",
      "source": [
        "import os, numpy as np, pandas as pd\n",
        "from pose_format import Pose\n",
        "from sklearn.decomposition import PCA\n",
        "from sklearn.preprocessing import normalize"
      ],
      "metadata": {
        "id": "ejxjtBYOQvnW"
      },
      "execution_count": null,
      "outputs": []
    },
    {
      "cell_type": "code",
      "source": [
        "DATA_DIR       = \"/content/drive/MyDrive/UGP\"\n",
        "VIDEO_POSE_DIR = f\"{DATA_DIR}/CISLR_v1.5-a_videos_poses\"\n",
        "I3D_PKL        = f\"{DATA_DIR}/I3D_features.pkl\"\n",
        "PROTO_CSV      = f\"{DATA_DIR}/prototype.csv\"\n",
        "TEST_CSV       = f\"{DATA_DIR}/test.csv\""
      ],
      "metadata": {
        "id": "ELYEdyDIQyJq"
      },
      "execution_count": null,
      "outputs": []
    },
    {
      "cell_type": "code",
      "source": [
        "proto_df = pd.read_csv(PROTO_CSV); proto_df[\"gloss\"]=proto_df[\"gloss\"].astype(str)\n",
        "test_df  = pd.read_csv(TEST_CSV);  test_df[\"gloss\"]=test_df[\"gloss\"].astype(str)\n",
        "y_tr, y_te = proto_df.gloss.tolist(), test_df.gloss.tolist()\n",
        "\n",
        "i3d_df = pd.read_pickle(I3D_PKL)\n",
        "i3d_dict = {r[\"id\"]: np.array(r[\"I3D_features\"],dtype=np.float32)\n",
        "            for _,r in i3d_df.iterrows()}"
      ],
      "metadata": {
        "id": "hMVHv6ChQzmM"
      },
      "execution_count": null,
      "outputs": []
    },
    {
      "cell_type": "markdown",
      "source": [
        "Function for evaluation defined"
      ],
      "metadata": {
        "id": "T4RBUNvk3gYK"
      }
    },
    {
      "cell_type": "code",
      "source": [
        "def topk_from_S(S, y_tr, y_te, k):\n",
        "    ranks = np.argsort(-S,axis=1)\n",
        "    return np.mean([ y_te[i] in [y_tr[j] for j in ranks[i,:k]]\n",
        "                     for i in range(len(y_te)) ])*100"
      ],
      "metadata": {
        "id": "_c-JPgLTQ1dj"
      },
      "execution_count": null,
      "outputs": []
    },
    {
      "cell_type": "markdown",
      "source": [
        "#Basic function for the model"
      ],
      "metadata": {
        "id": "LtmSzwaY3kfM"
      }
    },
    {
      "cell_type": "markdown",
      "source": [
        "Improved I3D - Mean, Max and Std-dev pooling of I3D"
      ],
      "metadata": {
        "id": "_zZKcpgu3opU"
      }
    },
    {
      "cell_type": "code",
      "source": [
        "def improved_i3d_feat(uid):\n",
        "    arr = i3d_dict[uid].squeeze((0,3,4))  # (1024,S)\n",
        "    m,M,s = arr.mean(axis=1), arr.max(axis=1), arr.std(axis=1)\n",
        "    f = np.concatenate([m,M,s])\n",
        "    f = np.sign(f)*np.sqrt(np.abs(f)+1e-8)\n",
        "    return f/np.linalg.norm(f)"
      ],
      "metadata": {
        "id": "l4f1ppm_Q_GA"
      },
      "execution_count": null,
      "outputs": []
    },
    {
      "cell_type": "markdown",
      "source": [
        "Velocity based only on face and hands since body doesn't contribute much in Sign Language and varies from signer to signer"
      ],
      "metadata": {
        "id": "G1mflu103utp"
      }
    },
    {
      "cell_type": "code",
      "source": [
        "def pose_velocity_feat(uid):\n",
        "    buf    = open(f\"{VIDEO_POSE_DIR}/{uid}.pose\",\"rb\").read()\n",
        "    p      = Pose.read(buf)\n",
        "    coords = p.body.data.squeeze(1)[...,:2]  # (T,576,2)\n",
        "    if coords.shape[0]<2:\n",
        "        feat = np.zeros(576*2)\n",
        "    else:\n",
        "        # face+hands only\n",
        "        face = coords[:,33:33+468]\n",
        "        lh   = coords[:,501:501+21]\n",
        "        rh   = coords[:,522:522+21]\n",
        "        pts  = np.concatenate([face,lh,rh],axis=1)  # (T,510,2)\n",
        "        diffs= np.linalg.norm(pts[1:]-pts[:-1],axis=2)\n",
        "        feat = np.concatenate([diffs.mean(0), diffs.max(0)])\n",
        "    feat = np.sign(feat)*np.sqrt(np.abs(feat)+1e-8)\n",
        "    return feat/np.linalg.norm(feat)\n"
      ],
      "metadata": {
        "id": "cd6rcvYsQ_-w"
      },
      "execution_count": null,
      "outputs": []
    },
    {
      "cell_type": "markdown",
      "source": [
        "Building the improved I3D and velocity features"
      ],
      "metadata": {
        "id": "VjTQkMyS35IQ"
      }
    },
    {
      "cell_type": "code",
      "source": [
        "X_imp = np.stack([improved_i3d_feat(u) for u in proto_df.uid])\n",
        "X_imp_te = np.stack([improved_i3d_feat(u) for u in test_df.uid])\n",
        "X_vel = np.stack([pose_velocity_feat(u) for u in proto_df.uid])\n",
        "X_vel_te = np.stack([pose_velocity_feat(u) for u in test_df.uid])"
      ],
      "metadata": {
        "id": "TUvMo1BrRDJa"
      },
      "execution_count": null,
      "outputs": []
    },
    {
      "cell_type": "markdown",
      "source": [
        "Mahalanobis scaling on the improved-I3D"
      ],
      "metadata": {
        "id": "R5cPUY573_v-"
      }
    },
    {
      "cell_type": "code",
      "source": [
        "# Mahalanobis‑scale\n",
        "var = X_imp.var(0)+1e-6\n",
        "W   = 1/np.sqrt(var)\n",
        "X_ms   = X_imp * W[None,:]\n",
        "X_ms_te= X_imp_te * W[None,:]"
      ],
      "metadata": {
        "id": "6WHZHzi0RFSx"
      },
      "execution_count": null,
      "outputs": []
    },
    {
      "cell_type": "markdown",
      "source": [
        "#Check for the best PCA dimensions on improved I3D and check for best accuracy"
      ],
      "metadata": {
        "id": "M6A4S2wy4DlT"
      }
    },
    {
      "cell_type": "code",
      "source": [
        "# ================================\n",
        "# 3. SCAN PCA‑WHITEN DIMS\n",
        "# ================================\n",
        "dims = [128,256,512,768,1024]\n",
        "best = (0,0)  # (score,dim)\n",
        "S_ms = normalize(X_ms,axis=1).dot(normalize(X_ms_te,axis=1).T)  # for fusion later\n",
        "\n",
        "print(\"=== PCA‑Whiten scan ===\")\n",
        "for d in dims:\n",
        "    pca = PCA(whiten=True,n_components=d).fit(X_imp)\n",
        "    X_pw   = pca.transform(X_imp)\n",
        "    X_pw_te= pca.transform(X_imp_te)\n",
        "    S_pw = normalize(X_pw_te,axis=1).dot(normalize(X_pw,axis=1).T)\n",
        "    acc1 = topk_from_S(S_pw, y_tr, y_te,1)\n",
        "    acc5 = topk_from_S(S_pw, y_tr, y_te,5)\n",
        "    acc10= topk_from_S(S_pw, y_tr, y_te,10)\n",
        "    print(f\"dim={d}: Top-1={acc1:.2f} Top-5={acc5:.2f} Top-10={acc10:.2f}\")\n",
        "    if acc1>best[0]:\n",
        "        best=(acc1,d)\n",
        "print(f\">>> Best PCA dim={best[1]} with Top-1={best[0]:.2f}%\\n\")\n",
        "\n",
        "# Recompute best PCA sim matrix\n",
        "pca = PCA(whiten=True,n_components=best[1]).fit(X_imp)\n",
        "X_pw   = pca.transform(X_imp);    X_pw_te = pca.transform(X_imp_te)\n",
        "S_pw = normalize(X_pw_te,axis=1).dot(normalize(X_pw,axis=1).T)\n"
      ],
      "metadata": {
        "colab": {
          "base_uri": "https://localhost:8080/"
        },
        "id": "Lkjbj8vzRHkB",
        "outputId": "ae83710a-5936-485b-bdee-bc96183a05ae"
      },
      "execution_count": null,
      "outputs": [
        {
          "output_type": "stream",
          "name": "stdout",
          "text": [
            "=== PCA‑Whiten scan ===\n",
            "dim=128: Top-1=18.60 Top-5=23.24 Top-10=26.26\n",
            "dim=256: Top-1=18.60 Top-5=23.76 Top-10=26.74\n",
            "dim=512: Top-1=18.86 Top-5=24.42 Top-10=27.57\n",
            "dim=768: Top-1=18.99 Top-5=24.64 Top-10=27.66\n",
            "dim=1024: Top-1=18.95 Top-5=24.51 Top-10=27.35\n",
            ">>> Best PCA dim=768 with Top-1=18.99%\n",
            "\n"
          ]
        }
      ]
    },
    {
      "cell_type": "markdown",
      "source": [
        "#New model -> PCA + Mahalanobis + Velocity"
      ],
      "metadata": {
        "id": "UZjHKHia4jVO"
      }
    },
    {
      "cell_type": "markdown",
      "source": [
        "Normalize all the datasets"
      ],
      "metadata": {
        "id": "jSosDIC94dio"
      }
    },
    {
      "cell_type": "code",
      "source": [
        "# ================================\n",
        "# 4. VELOCITY SIM MATRIX\n",
        "# ================================\n",
        "S_vel = normalize(X_vel_te,axis=1).dot(normalize(X_vel,axis=1).T)\n"
      ],
      "metadata": {
        "id": "JpDYIpb9RMh4"
      },
      "execution_count": null,
      "outputs": []
    },
    {
      "cell_type": "code",
      "source": [
        "S_pw  = normalize(X_pw_te,axis=1).dot(normalize(X_pw,axis=1).T)    # (N_test, N_train)\n",
        "S_ms  = normalize(X_ms_te,axis=1).dot(normalize(X_ms,axis=1).T)    # (N_test, N_train)\n",
        "S_vel = normalize(X_vel_te,axis=1).dot(normalize(X_vel,axis=1).T)  # (N_test, N_train)"
      ],
      "metadata": {
        "id": "k5JTQ4t9RPb9"
      },
      "execution_count": null,
      "outputs": []
    },
    {
      "cell_type": "markdown",
      "source": [
        "Scan for the best hyper-parameters --> We get that velocity doesn't contribute positively"
      ],
      "metadata": {
        "id": "yQ5i9Rn349hp"
      }
    },
    {
      "cell_type": "code",
      "source": [
        "import numpy as np\n",
        "\n",
        "def topk_from_S(S, y_tr, y_te, k):\n",
        "    ranks = np.argsort(-S, axis=1)\n",
        "    return np.mean([\n",
        "        y_te[i] in { y_tr[j] for j in ranks[i,:k] }\n",
        "        for i in range(len(y_te))\n",
        "    ]) * 100\n",
        "\n",
        "# grid over α, β, γ=1-α-β\n",
        "best = (0.0, (0,0,0))\n",
        "print(\"α   β   γ    Top-1   Top-5   Top-10\")\n",
        "for α in np.linspace(0,1,11):\n",
        "    for β in np.linspace(0,1-α,11):\n",
        "        γ = 1 - α - β\n",
        "        # fuse\n",
        "        S_fuse = α*S_pw + β*S_ms + γ*S_vel\n",
        "        acc1  = topk_from_S(S_fuse, y_tr, y_te, 1)\n",
        "        acc5  = topk_from_S(S_fuse, y_tr, y_te, 5)\n",
        "        acc10 = topk_from_S(S_fuse, y_tr, y_te,10)\n",
        "        print(f\"{α:.2f} {β:.2f} {γ:.2f}   {acc1:5.2f}%   {acc5:5.2f}%   {acc10:5.2f}%\")\n",
        "        if acc1 > best[0]:\n",
        "            best = (acc1, (α,β,γ))\n",
        "\n",
        "print(\"\\nBest Top-1 = {:.2f}% with α,β,γ = {:.2f}, {:.2f}, {:.2f}\".format(\n",
        "    best[0], *best[1]\n",
        "))"
      ],
      "metadata": {
        "colab": {
          "base_uri": "https://localhost:8080/"
        },
        "id": "3xsLMqSQcdrA",
        "outputId": "a13fc4f7-96e6-4b82-a3d0-bc8a2ee6029d"
      },
      "execution_count": null,
      "outputs": [
        {
          "output_type": "stream",
          "name": "stdout",
          "text": [
            "α   β   γ    Top-1   Top-5   Top-10\n",
            "0.00 0.00 1.00    4.20%    5.95%    7.18%\n",
            "0.00 0.10 0.90   12.39%   14.88%   16.81%\n",
            "0.00 0.20 0.80   13.39%   16.28%   18.47%\n",
            "0.00 0.30 0.70   13.96%   16.81%   19.12%\n",
            "0.00 0.40 0.60   14.18%   17.59%   19.47%\n",
            "0.00 0.50 0.50   14.44%   17.86%   19.78%\n",
            "0.00 0.60 0.40   14.62%   18.16%   20.22%\n",
            "0.00 0.70 0.30   14.97%   18.38%   20.39%\n",
            "0.00 0.80 0.20   15.14%   19.12%   21.01%\n",
            "0.00 0.90 0.10   16.89%   20.61%   22.58%\n",
            "0.00 1.00 0.00   17.37%   21.53%   23.37%\n",
            "0.10 0.00 0.90   15.40%   19.61%   21.88%\n",
            "0.10 0.09 0.81   15.75%   19.96%   22.23%\n",
            "0.10 0.18 0.72   15.67%   19.96%   22.32%\n",
            "0.10 0.27 0.63   15.97%   20.00%   22.19%\n",
            "0.10 0.36 0.54   16.06%   20.13%   22.28%\n",
            "0.10 0.45 0.45   16.06%   20.04%   22.41%\n",
            "0.10 0.54 0.36   16.46%   20.57%   22.93%\n",
            "0.10 0.63 0.27   16.98%   21.36%   23.85%\n",
            "0.10 0.72 0.18   17.99%   21.97%   24.29%\n",
            "0.10 0.81 0.09   18.42%   22.54%   24.90%\n",
            "0.10 0.90 0.00   18.73%   23.37%   25.25%\n",
            "0.20 0.00 0.80   15.75%   20.61%   22.80%\n",
            "0.20 0.08 0.72   15.84%   20.74%   23.11%\n",
            "0.20 0.16 0.64   16.19%   20.92%   23.41%\n",
            "0.20 0.24 0.56   16.24%   21.23%   23.72%\n",
            "0.20 0.32 0.48   16.54%   21.40%   23.81%\n",
            "0.20 0.40 0.40   16.76%   21.75%   24.29%\n",
            "0.20 0.48 0.32   17.37%   22.54%   24.73%\n",
            "0.20 0.56 0.24   17.72%   22.63%   24.99%\n",
            "0.20 0.64 0.16   18.21%   23.02%   25.12%\n",
            "0.20 0.72 0.08   18.77%   23.33%   25.69%\n",
            "0.20 0.80 0.00   18.99%   24.16%   26.56%\n",
            "0.30 0.00 0.70   16.19%   21.49%   23.54%\n",
            "0.30 0.07 0.63   16.46%   21.62%   23.72%\n",
            "0.30 0.14 0.56   16.59%   21.97%   24.20%\n",
            "0.30 0.21 0.49   17.02%   22.36%   24.81%\n",
            "0.30 0.28 0.42   17.55%   22.71%   25.25%\n",
            "0.30 0.35 0.35   17.86%   23.02%   25.69%\n",
            "0.30 0.42 0.28   18.03%   23.15%   25.91%\n",
            "0.30 0.49 0.21   18.25%   23.46%   25.78%\n",
            "0.30 0.56 0.14   18.60%   23.68%   26.13%\n",
            "0.30 0.63 0.07   18.91%   24.20%   26.70%\n",
            "0.30 0.70 0.00   18.95%   24.51%   27.22%\n",
            "0.40 0.00 0.60   16.85%   22.32%   24.38%\n",
            "0.40 0.06 0.54   17.20%   22.98%   24.90%\n",
            "0.40 0.12 0.48   17.55%   23.19%   25.21%\n",
            "0.40 0.18 0.42   17.77%   23.28%   25.56%\n",
            "0.40 0.24 0.36   18.03%   23.46%   25.82%\n",
            "0.40 0.30 0.30   18.07%   23.54%   26.08%\n",
            "0.40 0.36 0.24   18.51%   23.85%   26.13%\n",
            "0.40 0.42 0.18   18.73%   24.03%   26.39%\n",
            "0.40 0.48 0.12   18.77%   24.07%   26.78%\n",
            "0.40 0.54 0.06   18.95%   24.64%   27.26%\n",
            "0.40 0.60 0.00   19.08%   24.77%   27.75%\n",
            "0.50 0.00 0.50   17.68%   23.15%   25.16%\n",
            "0.50 0.05 0.45   17.81%   23.41%   25.56%\n",
            "0.50 0.10 0.40   17.99%   23.59%   25.82%\n",
            "0.50 0.15 0.35   17.99%   23.72%   26.00%\n",
            "0.50 0.20 0.30   18.16%   23.89%   26.13%\n",
            "0.50 0.25 0.25   18.51%   23.94%   26.30%\n",
            "0.50 0.30 0.20   18.73%   24.16%   26.52%\n",
            "0.50 0.35 0.15   18.69%   24.42%   26.83%\n",
            "0.50 0.40 0.10   18.91%   24.46%   27.57%\n",
            "0.50 0.45 0.05   19.12%   24.95%   27.53%\n",
            "0.50 0.50 0.00   19.12%   24.95%   28.10%\n",
            "0.60 0.00 0.40   17.99%   23.63%   25.60%\n",
            "0.60 0.04 0.36   18.21%   23.85%   25.78%\n",
            "0.60 0.08 0.32   18.34%   23.94%   26.08%\n",
            "0.60 0.12 0.28   18.51%   23.94%   26.35%\n",
            "0.60 0.16 0.24   18.64%   24.07%   26.48%\n",
            "0.60 0.20 0.20   18.69%   24.16%   26.70%\n",
            "0.60 0.24 0.16   18.64%   24.38%   26.87%\n",
            "0.60 0.28 0.12   18.86%   24.46%   27.61%\n",
            "0.60 0.32 0.08   18.91%   24.73%   27.61%\n",
            "0.60 0.36 0.04   19.17%   24.95%   27.75%\n",
            "0.60 0.40 0.00   19.21%   25.16%   28.18%\n",
            "0.70 0.00 0.30   18.51%   23.98%   26.13%\n",
            "0.70 0.03 0.27   18.69%   24.16%   26.08%\n",
            "0.70 0.06 0.24   18.69%   24.20%   26.43%\n",
            "0.70 0.09 0.21   18.69%   24.20%   26.61%\n",
            "0.70 0.12 0.18   18.69%   24.29%   26.87%\n",
            "0.70 0.15 0.15   18.82%   24.38%   27.31%\n",
            "0.70 0.18 0.12   18.91%   24.55%   27.57%\n",
            "0.70 0.21 0.09   19.04%   24.86%   27.66%\n",
            "0.70 0.24 0.06   19.12%   24.86%   27.79%\n",
            "0.70 0.27 0.03   19.17%   25.08%   27.79%\n",
            "0.70 0.30 0.00   19.12%   25.03%   27.96%\n",
            "0.80 0.00 0.20   18.60%   24.29%   26.74%\n",
            "0.80 0.02 0.18   18.77%   24.42%   27.09%\n",
            "0.80 0.04 0.16   18.82%   24.51%   27.31%\n",
            "0.80 0.06 0.14   18.82%   24.64%   27.48%\n",
            "0.80 0.08 0.12   18.86%   24.68%   27.48%\n",
            "0.80 0.10 0.10   18.95%   24.86%   27.48%\n",
            "0.80 0.12 0.08   18.99%   25.03%   27.57%\n",
            "0.80 0.14 0.06   19.04%   25.03%   27.70%\n",
            "0.80 0.16 0.04   19.08%   24.90%   27.75%\n",
            "0.80 0.18 0.02   19.08%   25.03%   27.83%\n",
            "0.80 0.20 0.00   19.12%   25.08%   28.10%\n",
            "0.90 0.00 0.10   18.86%   24.86%   27.44%\n",
            "0.90 0.01 0.09   18.91%   25.03%   27.40%\n",
            "0.90 0.02 0.08   18.91%   24.99%   27.48%\n",
            "0.90 0.03 0.07   18.91%   25.03%   27.61%\n",
            "0.90 0.04 0.06   18.95%   24.86%   27.70%\n",
            "0.90 0.05 0.05   18.99%   24.95%   27.61%\n",
            "0.90 0.06 0.04   18.99%   25.03%   27.66%\n",
            "0.90 0.07 0.03   18.99%   24.90%   27.66%\n",
            "0.90 0.08 0.02   18.99%   24.95%   27.66%\n",
            "0.90 0.09 0.01   19.04%   24.99%   27.79%\n",
            "0.90 0.10 0.00   18.95%   25.16%   27.88%\n",
            "1.00 0.00 0.00   18.99%   25.03%   27.75%\n",
            "1.00 0.00 0.00   18.99%   25.03%   27.75%\n",
            "1.00 0.00 0.00   18.99%   25.03%   27.75%\n",
            "1.00 0.00 0.00   18.99%   25.03%   27.75%\n",
            "1.00 0.00 0.00   18.99%   25.03%   27.75%\n",
            "1.00 0.00 0.00   18.99%   25.03%   27.75%\n",
            "1.00 0.00 0.00   18.99%   25.03%   27.75%\n",
            "1.00 0.00 0.00   18.99%   25.03%   27.75%\n",
            "1.00 0.00 0.00   18.99%   25.03%   27.75%\n",
            "1.00 0.00 0.00   18.99%   25.03%   27.75%\n",
            "1.00 0.00 0.00   18.99%   25.03%   27.75%\n",
            "\n",
            "Best Top-1 = 19.21% with α,β,γ = 0.60, 0.40, 0.00\n"
          ]
        }
      ]
    },
    {
      "cell_type": "markdown",
      "source": [
        "Our best model for top-5 and top-10 accuracy"
      ],
      "metadata": {
        "id": "j7Tvwxku5Ee-"
      }
    },
    {
      "cell_type": "code",
      "source": [
        "# now best values\n",
        "α, β, γ = 0.6, 0.4, 0.0\n",
        "S_fuse = α*S_pw + β*S_ms + γ*S_vel\n",
        "\n",
        "print(\"=== Fused Scores for best accuracy (α,β,γ)=(\",α,β,γ,\") ===\")\n",
        "for k in (1,5,10):\n",
        "    print(f\"Top-{k}: {topk_from_S(S_fuse, y_tr, y_te, k):.2f}%\")"
      ],
      "metadata": {
        "colab": {
          "base_uri": "https://localhost:8080/"
        },
        "id": "NQmK2daodzEi",
        "outputId": "88135336-4b58-4c1c-a541-f5cd7363bef6"
      },
      "execution_count": null,
      "outputs": [
        {
          "output_type": "stream",
          "name": "stdout",
          "text": [
            "=== Fused Scores for best accuracy (α,β,γ)=( 0.6 0.4 0.0 ) ===\n",
            "Top-1: 19.21%\n",
            "Top-5: 25.16%\n",
            "Top-10: 28.18%\n"
          ]
        }
      ]
    }
  ]
}