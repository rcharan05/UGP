{
  "nbformat": 4,
  "nbformat_minor": 0,
  "metadata": {
    "colab": {
      "provenance": [],
      "authorship_tag": "ABX9TyPIBxBOeEJAHYFC3NlzNu+w",
      "include_colab_link": true
    },
    "kernelspec": {
      "name": "python3",
      "display_name": "Python 3"
    },
    "language_info": {
      "name": "python"
    }
  },
  "cells": [
    {
      "cell_type": "markdown",
      "metadata": {
        "id": "view-in-github",
        "colab_type": "text"
      },
      "source": [
        "<a href=\"https://colab.research.google.com/github/rcharan05/UGP/blob/main/One_Shot_Sign_Language_Recognition_Improved_I3D_Features_and_Pose_Velocity_Fusion.ipynb\" target=\"_parent\"><img src=\"https://colab.research.google.com/assets/colab-badge.svg\" alt=\"Open In Colab\"/></a>"
      ]
    },
    {
      "cell_type": "markdown",
      "source": [
        "#Mounting the drive, importing all necessary libraries and loading all the data in the needed format"
      ],
      "metadata": {
        "id": "rlwjUNn1iqTf"
      }
    },
    {
      "cell_type": "code",
      "execution_count": null,
      "metadata": {
        "colab": {
          "base_uri": "https://localhost:8080/"
        },
        "id": "qR-hPOg2-aov",
        "outputId": "a1906443-e626-4ea7-ff06-94f0b9e67d22"
      },
      "outputs": [
        {
          "output_type": "stream",
          "name": "stdout",
          "text": [
            "Requirement already satisfied: pose_format in /usr/local/lib/python3.11/dist-packages (0.9.0)\n",
            "Requirement already satisfied: numpy in /usr/local/lib/python3.11/dist-packages (from pose_format) (2.0.2)\n",
            "Requirement already satisfied: scipy in /usr/local/lib/python3.11/dist-packages (from pose_format) (1.14.1)\n",
            "Requirement already satisfied: tqdm in /usr/local/lib/python3.11/dist-packages (from pose_format) (4.67.1)\n",
            "Mounted at /content/drive\n"
          ]
        }
      ],
      "source": [
        "# 0) Mount Drive & Install\n",
        "from google.colab import drive\n",
        "import os\n",
        "import numpy as np\n",
        "import pandas as pd\n",
        "from sklearn.preprocessing import normalize\n",
        "!pip install pose_format\n",
        "from pose_format import Pose  # pip install pose-format\n",
        "import pickle\n",
        "\n",
        "drive.mount('/content/drive', force_remount=True)"
      ]
    },
    {
      "cell_type": "code",
      "source": [
        "DATA_DIR       = \"/content/drive/MyDrive/UGP\"\n",
        "VIDEO_POSE_DIR = os.path.join(DATA_DIR, \"CISLR_v1.5-a_videos_poses\")\n",
        "I3D_PKL        = os.path.join(DATA_DIR, \"I3D_features.pkl\")\n",
        "PROTO_CSV      = os.path.join(DATA_DIR, \"prototype.csv\")\n",
        "TEST_CSV       = os.path.join(DATA_DIR, \"test.csv\")"
      ],
      "metadata": {
        "id": "2WEDc1gA-dHf"
      },
      "execution_count": null,
      "outputs": []
    },
    {
      "cell_type": "code",
      "source": [
        "df_proto = pd.read_csv(PROTO_CSV); df_test = pd.read_csv(TEST_CSV)\n",
        "for df in (df_proto, df_test):\n",
        "    df[\"gloss\"] = df[\"gloss\"].astype(str)\n",
        "y_train = df_proto[\"gloss\"].tolist()\n",
        "y_test  = df_test [\"gloss\"].tolist()"
      ],
      "metadata": {
        "id": "tyHhVaU8-e28"
      },
      "execution_count": null,
      "outputs": []
    },
    {
      "cell_type": "code",
      "source": [
        "i3d_df   = pd.read_pickle(I3D_PKL)\n",
        "i3d_dict = {row[\"id\"]: np.array(row[\"I3D_features\"],dtype=np.float32)\n",
        "            for _,row in i3d_df.iterrows()}"
      ],
      "metadata": {
        "id": "kMJ2SIXk-gkz"
      },
      "execution_count": null,
      "outputs": []
    },
    {
      "cell_type": "markdown",
      "source": [
        "Improved I3D Feature Extraction (Mean, max and std dev pooled together)"
      ],
      "metadata": {
        "id": "-pYNDCI50l2E"
      }
    },
    {
      "cell_type": "code",
      "source": [
        "def improved_i3d_feat(uid):\n",
        "    arr = i3d_dict[uid].squeeze((0,3,4))  # → (1024,11)\n",
        "    m   = arr.mean(axis=1)\n",
        "    M   = arr.max (axis=1)\n",
        "    s   = arr.std (axis=1)\n",
        "    feat = np.concatenate([m,M,s])        # (3072,)\n",
        "    feat = np.sign(feat) * np.sqrt(np.abs(feat)+1e-8)\n",
        "    return feat / np.linalg.norm(feat)"
      ],
      "metadata": {
        "id": "P2VUNvKf-ilR"
      },
      "execution_count": null,
      "outputs": []
    },
    {
      "cell_type": "markdown",
      "source": [
        "Build I3D Features and Evaluate One-Shot Matching"
      ],
      "metadata": {
        "id": "iEUGx78r0rL6"
      }
    },
    {
      "cell_type": "code",
      "source": [
        "# 3) Build features + one‑shot match\n",
        "X_tr = np.stack([improved_i3d_feat(u) for u in df_proto[\"uid\"]])\n",
        "X_te = np.stack([improved_i3d_feat(u) for u in df_test [\"uid\"]])\n",
        "X_trn = normalize(X_tr, axis=1); X_ten = normalize(X_te, axis=1)\n",
        "S = X_ten.dot(X_trn.T); ranks = np.argsort(-S,axis=1)"
      ],
      "metadata": {
        "id": "SYI_Zcgi-kNV"
      },
      "execution_count": null,
      "outputs": []
    },
    {
      "cell_type": "code",
      "source": [
        "def topk_acc(ranks, y_tr, y_te, k):\n",
        "    return np.mean([y_te[i] in [y_tr[j] for j in ranks[i,:k]] for i in range(len(y_te))]) * 100"
      ],
      "metadata": {
        "id": "nwDs6C7G-mRU"
      },
      "execution_count": null,
      "outputs": []
    },
    {
      "cell_type": "markdown",
      "source": [
        "Min, Max and Std-dev pooling pushed accuracy very slightly from just mean pooling used in CISLR"
      ],
      "metadata": {
        "id": "yZ3rivbN0tf8"
      }
    },
    {
      "cell_type": "code",
      "source": [
        "print(\"=== Improved I3D‑Only One‑Shot ===\")\n",
        "for k in (1,5,10):\n",
        "    print(f\"Top-{k} Accuracy: {topk_acc(ranks, y_train, y_test, k):.2f}%\")"
      ],
      "metadata": {
        "colab": {
          "base_uri": "https://localhost:8080/"
        },
        "id": "b7G7O0j8-pbr",
        "outputId": "1bfd6a01-9d65-4a4b-da7a-3f08b2c07823"
      },
      "execution_count": null,
      "outputs": [
        {
          "output_type": "stream",
          "name": "stdout",
          "text": [
            "=== Improved I3D‑Only One‑Shot ===\n",
            "Top-1 Accuracy: 17.20%\n",
            "Top-5 Accuracy: 21.05%\n",
            "Top-10 Accuracy: 22.84%\n"
          ]
        }
      ]
    },
    {
      "cell_type": "markdown",
      "source": [
        "Pose Velocity Feature Extraction"
      ],
      "metadata": {
        "id": "ORC1TnTS010y"
      }
    },
    {
      "cell_type": "code",
      "source": [
        "def pose_velocity_feat(uid):\n",
        "    \"\"\"\n",
        "    Load your .pose (shape: (T,1,576,3)), squeeze → (T,576,3),\n",
        "    compute per‐frame speed = ||kp[t] – kp[t–1]||_2 for each of 576 joints,\n",
        "    then aggregate mean+max over time → (576,)×2 = (1152,)\n",
        "    \"\"\"\n",
        "    buf = open(f\"{VIDEO_POSE_DIR}/{uid}.pose\",\"rb\").read()\n",
        "    p   = Pose.read(buf)\n",
        "    coords = p.body.data.squeeze(1)    # → (T,576,3)\n",
        "    # compute frame‐wise speeds\n",
        "    diffs = np.linalg.norm(coords[1:] - coords[:-1], axis=2)  # (T–1,576)\n",
        "    mean_sp = diffs.mean(axis=0)       # (576,)\n",
        "    max_sp  = diffs.max(axis=0)        # (576,)\n",
        "    feat    = np.concatenate([mean_sp, max_sp])  # (1152,)\n",
        "    # signed‐sqrt + L2 norm\n",
        "    feat    = np.sign(feat)*np.sqrt(np.abs(feat)+1e-8)\n",
        "    norm    = np.linalg.norm(feat)\n",
        "    return feat/norm if norm>0 else feat\n"
      ],
      "metadata": {
        "id": "8YOdV5O6-p5o"
      },
      "execution_count": null,
      "outputs": []
    },
    {
      "cell_type": "markdown",
      "source": [
        "Both the features extracted are concatenated"
      ],
      "metadata": {
        "id": "aC0l-hZW07ix"
      }
    },
    {
      "cell_type": "code",
      "source": [
        "# I3D (3072‐d) + velocity (1152‐d) for train & test\n",
        "X_i3d_imp = np.stack([ improved_i3d_feat(uid) for uid in df_proto.uid ])\n",
        "X_i3d_imp_te = np.stack([ improved_i3d_feat(uid) for uid in df_test.uid ])\n",
        "\n",
        "X_vel_tr = np.stack([ pose_velocity_feat(uid) for uid in df_proto.uid ])\n",
        "X_vel_te = np.stack([ pose_velocity_feat(uid) for uid in df_test.uid ])"
      ],
      "metadata": {
        "id": "T815Xz2b_EVU"
      },
      "execution_count": null,
      "outputs": []
    },
    {
      "cell_type": "markdown",
      "source": [
        "Normalize the new feature set"
      ],
      "metadata": {
        "id": "ERxzvyN70_Zo"
      }
    },
    {
      "cell_type": "code",
      "source": [
        "from sklearn.preprocessing import normalize\n",
        "\n",
        "# L2‐normalize (just in case)\n",
        "X_i3d_tr_n = normalize(X_i3d_imp, axis=1)\n",
        "X_i3d_te_n = normalize(X_i3d_imp_te, axis=1)\n",
        "X_vel_tr_n  = normalize(X_vel_tr, axis=1)\n",
        "X_vel_te_n  = normalize(X_vel_te, axis=1)"
      ],
      "metadata": {
        "id": "09lBqZ_F_amG"
      },
      "execution_count": null,
      "outputs": []
    },
    {
      "cell_type": "markdown",
      "source": [
        "Buid and evaluate this concatenated feature set (including velocity just brings down the accuracy from pure I3D alone)"
      ],
      "metadata": {
        "id": "WwP_0Cee1GeK"
      }
    },
    {
      "cell_type": "code",
      "source": [
        "from sklearn.metrics.pairwise import cosine_similarity\n",
        "\n",
        "def eval_fusion(beta):\n",
        "    # Compute cosine similarities for each modality separately\n",
        "    S_i3d = cosine_similarity(X_i3d_te_n, X_i3d_tr_n)  # shape: (N_test, N_proto)\n",
        "    S_vel = cosine_similarity(X_vel_te_n, X_vel_tr_n)   # shape: (N_test, N_proto)\n",
        "\n",
        "    # Fuse the similarity scores with weight beta on I3D and (1-beta) on velocity\n",
        "    S_fused = beta * S_i3d + (1-beta) * S_vel\n",
        "\n",
        "    # Get ranking indices (largest similarity first)\n",
        "    ranks = np.argsort(-S_fused, axis=1)\n",
        "\n",
        "    def topk(k):\n",
        "        return np.mean([df_test.gloss[i] in df_proto.gloss.values[ranks[i,:k]]\n",
        "                        for i in range(len(ranks))]) * 100\n",
        "\n",
        "    print(f\"β={beta:.2f}  Top‑1: {topk(1):.2f}%  Top‑5: {topk(5):.2f}%  Top‑10: {topk(10):.2f}%\")\n",
        "\n",
        "for beta in [0.0, 0.25, 0.5, 0.75, 1.0]:\n",
        "    eval_fusion(beta)\n"
      ],
      "metadata": {
        "colab": {
          "base_uri": "https://localhost:8080/"
        },
        "id": "j7WQS51z_bj4",
        "outputId": "9d807e12-08c2-4677-f2cc-15312da37e50"
      },
      "execution_count": null,
      "outputs": [
        {
          "output_type": "stream",
          "name": "stdout",
          "text": [
            "β=0.00  Top‑1: 7.05%  Top‑5: 9.32%  Top‑10: 10.50%\n",
            "β=0.25  Top‑1: 13.44%  Top‑5: 16.46%  Top‑10: 18.73%\n",
            "β=0.50  Top‑1: 14.35%  Top‑5: 17.77%  Top‑10: 19.82%\n",
            "β=0.75  Top‑1: 15.14%  Top‑5: 18.38%  Top‑10: 20.26%\n",
            "β=1.00  Top‑1: 17.20%  Top‑5: 21.05%  Top‑10: 22.84%\n"
          ]
        }
      ]
    },
    {
      "cell_type": "markdown",
      "source": [
        "Extract Full-Body, Hand, Face, and Face+Hand Velocity Features"
      ],
      "metadata": {
        "id": "bus7RX5O1S7Q"
      }
    },
    {
      "cell_type": "code",
      "source": [
        "def pose_velocity_feat_hands(uid):\n",
        "    \"\"\"\n",
        "    Compute velocity features for just the hands.\n",
        "    Uses landmarks with indices 501:543 (21 left-hand + 21 right-hand = 42 landmarks).\n",
        "    Computes per-frame differences, then aggregates mean and max over time.\n",
        "    Final feature dimension: 2 * 42 = 84.\n",
        "    \"\"\"\n",
        "    buf = open(os.path.join(VIDEO_POSE_DIR, f\"{uid}.pose\"), \"rb\").read()\n",
        "    p = Pose.read(buf)\n",
        "    coords = p.body.data.squeeze(1)  # (T,576,3)\n",
        "    # Extract hand landmarks (indices 501 to 543)\n",
        "    hands = coords[:, 501:543]  # (T,42,3)\n",
        "    diffs = np.linalg.norm(hands[1:] - hands[:-1], axis=2)  # (T-1, 42)\n",
        "    mean_sp = diffs.mean(axis=0)  # (42,)\n",
        "    max_sp  = diffs.max(axis=0)   # (42,)\n",
        "    feat = np.concatenate([mean_sp, max_sp])  # (84,)\n",
        "    feat = np.sign(feat) * np.sqrt(np.abs(feat) + 1e-8)\n",
        "    norm = np.linalg.norm(feat)\n",
        "    return feat / norm if norm > 0 else feat\n",
        "\n",
        "def pose_velocity_feat_face(uid):\n",
        "    \"\"\"\n",
        "    Compute velocity features for just the face.\n",
        "    Uses landmarks with indices 33 to 501 (468 landmarks).\n",
        "    Aggregates per-frame differences via mean and max.\n",
        "    Final feature dimension: 2 * 468 = 936.\n",
        "    \"\"\"\n",
        "    buf = open(os.path.join(VIDEO_POSE_DIR, f\"{uid}.pose\"), \"rb\").read()\n",
        "    p = Pose.read(buf)\n",
        "    coords = p.body.data.squeeze(1)  # (T,576,3)\n",
        "    # Extract face landmarks (indices 33 to 501)\n",
        "    face = coords[:, 33:501]  # (T,468,3)\n",
        "    diffs = np.linalg.norm(face[1:] - face[:-1], axis=2)  # (T-1,468)\n",
        "    mean_sp = diffs.mean(axis=0)  # (468,)\n",
        "    max_sp  = diffs.max(axis=0)   # (468,)\n",
        "    feat = np.concatenate([mean_sp, max_sp])  # (936,)\n",
        "    feat = np.sign(feat) * np.sqrt(np.abs(feat) + 1e-8)\n",
        "    norm = np.linalg.norm(feat)\n",
        "    return feat / norm if norm > 0 else feat\n",
        "\n",
        "def pose_velocity_feat_face_hands(uid):\n",
        "    \"\"\"\n",
        "    Compute velocity features for both face and hands.\n",
        "    Concatenates face (468 landmarks) and hands (42 landmarks) yielding 510 landmarks.\n",
        "    Aggregates per-frame differences via mean and max.\n",
        "    Final feature dimension: 2 * 510 = 1020.\n",
        "    \"\"\"\n",
        "    buf = open(os.path.join(VIDEO_POSE_DIR, f\"{uid}.pose\"), \"rb\").read()\n",
        "    p = Pose.read(buf)\n",
        "    coords = p.body.data.squeeze(1)  # (T,576,3)\n",
        "    face = coords[:, 33:501]          # (T,468,3)\n",
        "    hands = coords[:, 501:543]        # (T,42,3)\n",
        "    pts = np.concatenate([face, hands], axis=1)  # (T,510,3)\n",
        "    diffs = np.linalg.norm(pts[1:] - pts[:-1], axis=2)  # (T-1,510)\n",
        "    mean_sp = diffs.mean(axis=0)  # (510,)\n",
        "    max_sp  = diffs.max(axis=0)   # (510,)\n",
        "    feat = np.concatenate([mean_sp, max_sp])  # (1020,)\n",
        "    feat = np.sign(feat) * np.sqrt(np.abs(feat) + 1e-8)\n",
        "    norm = np.linalg.norm(feat)\n",
        "    return feat / norm if norm > 0 else feat\n"
      ],
      "metadata": {
        "id": "TMyo5mzrkHOo"
      },
      "execution_count": null,
      "outputs": []
    },
    {
      "cell_type": "markdown",
      "source": [
        "Prepare Features for All Modalities"
      ],
      "metadata": {
        "id": "ZbAoxwh11X7i"
      }
    },
    {
      "cell_type": "code",
      "source": [
        "# I3D features (3072-d)\n",
        "X_i3d_tr = np.stack([improved_i3d_feat(uid) for uid in df_proto.uid])\n",
        "X_i3d_te = np.stack([improved_i3d_feat(uid) for uid in df_test.uid])\n",
        "X_i3d_tr_n = normalize(X_i3d_tr, axis=1)\n",
        "X_i3d_te_n = normalize(X_i3d_te, axis=1)"
      ],
      "metadata": {
        "id": "0hSq9LIDkXZe"
      },
      "execution_count": null,
      "outputs": []
    },
    {
      "cell_type": "code",
      "source": [
        "# For Hands (84-d)\n",
        "X_vel_hands_tr = np.stack([pose_velocity_feat_hands(uid) for uid in df_proto.uid])\n",
        "X_vel_hands_te = np.stack([pose_velocity_feat_hands(uid) for uid in df_test.uid])\n",
        "X_vel_hands_tr_n = normalize(X_vel_hands_tr, axis=1)\n",
        "X_vel_hands_te_n = normalize(X_vel_hands_te, axis=1)"
      ],
      "metadata": {
        "id": "SewHjru9kYay"
      },
      "execution_count": null,
      "outputs": []
    },
    {
      "cell_type": "code",
      "source": [
        "# For Face (936-d)\n",
        "X_vel_face_tr = np.stack([pose_velocity_feat_face(uid) for uid in df_proto.uid])\n",
        "X_vel_face_te = np.stack([pose_velocity_feat_face(uid) for uid in df_test.uid])\n",
        "X_vel_face_tr_n = normalize(X_vel_face_tr, axis=1)\n",
        "X_vel_face_te_n = normalize(X_vel_face_te, axis=1)"
      ],
      "metadata": {
        "id": "bnIRzWjCkbb1"
      },
      "execution_count": null,
      "outputs": []
    },
    {
      "cell_type": "code",
      "source": [
        "# For Face+Hands (1020-d)\n",
        "X_vel_face_hands_tr = np.stack([pose_velocity_feat_face_hands(uid) for uid in df_proto.uid])\n",
        "X_vel_face_hands_te = np.stack([pose_velocity_feat_face_hands(uid) for uid in df_test.uid])\n",
        "X_vel_face_hands_tr_n = normalize(X_vel_face_hands_tr, axis=1)\n",
        "X_vel_face_hands_te_n = normalize(X_vel_face_hands_te, axis=1)"
      ],
      "metadata": {
        "id": "DDB9yZDHkeKS"
      },
      "execution_count": null,
      "outputs": []
    },
    {
      "cell_type": "markdown",
      "source": [
        "Fusion Evaluation Functions"
      ],
      "metadata": {
        "id": "VN-B3VkT1nFF"
      }
    },
    {
      "cell_type": "code",
      "source": [
        "def eval_score_level_fusion(beta, X_vel_tr_n, X_vel_te_n, y_tr, y_te):\n",
        "    \"\"\"\n",
        "    Score-level fusion:\n",
        "      - Compute cosine similarities for I3D and velocity features separately,\n",
        "      - Fuse the similarity scores using weight beta (I3D) and 1-beta (velocity),\n",
        "      - Compute ranking and top-k accuracy.\n",
        "    \"\"\"\n",
        "    S_i3d = cosine_similarity(X_i3d_te_n, X_i3d_tr_n)\n",
        "    S_vel = cosine_similarity(X_vel_te_n, X_vel_tr_n)\n",
        "    S_fused = beta * S_i3d + (1 - beta) * S_vel\n",
        "    ranks = np.argsort(-S_fused, axis=1)\n",
        "    for k in (1, 5, 10):\n",
        "        acc = topk_acc(ranks, y_tr, y_te, k)\n",
        "        print(f\"Score-level: β={beta:.2f}  Top-{k} Accuracy: {acc:.2f}%\")\n"
      ],
      "metadata": {
        "id": "UTBaaGCrkkdR"
      },
      "execution_count": null,
      "outputs": []
    },
    {
      "cell_type": "code",
      "source": [
        "def eval_feature_level_fusion(beta, X_vel_tr_n, X_vel_te_n, y_tr, y_te):\n",
        "    \"\"\"\n",
        "    Feature-level fusion:\n",
        "      - Multiply I3D features by beta and velocity features by (1-beta),\n",
        "      - Concatenate them,\n",
        "      - L2-normalize the concatenated features,\n",
        "      - Compute cosine similarity, ranking and top-k accuracy.\n",
        "    \"\"\"\n",
        "    X_tr_concat = np.concatenate((beta * X_i3d_tr_n, (1 - beta) * X_vel_tr_n), axis=1)\n",
        "    X_te_concat = np.concatenate((beta * X_i3d_te_n, (1 - beta) * X_vel_te_n), axis=1)\n",
        "    X_tr_concat = normalize(X_tr_concat, axis=1)\n",
        "    X_te_concat = normalize(X_te_concat, axis=1)\n",
        "    S = X_te_concat.dot(X_tr_concat.T)\n",
        "    ranks = np.argsort(-S, axis=1)\n",
        "    for k in (1, 5, 10):\n",
        "        acc = topk_acc(ranks, y_tr, y_te, k)\n",
        "        print(f\"Feature-level: β={beta:.2f}  Top-{k} Accuracy: {acc:.2f}%\")\n"
      ],
      "metadata": {
        "id": "rSRgR1EZkn2Y"
      },
      "execution_count": null,
      "outputs": []
    },
    {
      "cell_type": "markdown",
      "source": [
        "Evaluation: Different Fusion Strategies."
      ],
      "metadata": {
        "id": "quOjBB5W1qjx"
      }
    },
    {
      "cell_type": "code",
      "source": [
        "# Ground truth gloss lists\n",
        "y_train = df_proto.gloss.tolist()\n",
        "y_test = df_test.gloss.tolist()\n",
        "\n",
        "print(\"=== FUSION EVALUATION (Score-level) with Velocity from Hands ===\")\n",
        "for beta in [0.0, 0.25, 0.5, 0.75, 1.0]:\n",
        "    eval_score_level_fusion(beta, X_vel_hands_tr_n, X_vel_hands_te_n, y_train, y_test)\n",
        "print(\"\\n=== FUSION EVALUATION (Feature-level) with Velocity from Hands ===\")\n",
        "for beta in [0.0, 0.25, 0.5, 0.75, 1.0]:\n",
        "    eval_feature_level_fusion(beta, X_vel_hands_tr_n, X_vel_hands_te_n, y_train, y_test)\n",
        "\n",
        "print(\"\\n=== FUSION EVALUATION (Score-level) with Velocity from Face ===\")\n",
        "for beta in [0.0, 0.25, 0.5, 0.75, 1.0]:\n",
        "    eval_score_level_fusion(beta, X_vel_face_tr_n, X_vel_face_te_n, y_train, y_test)\n",
        "print(\"\\n=== FUSION EVALUATION (Feature-level) with Velocity from Face ===\")\n",
        "for beta in [0.0, 0.25, 0.5, 0.75, 1.0]:\n",
        "    eval_feature_level_fusion(beta, X_vel_face_tr_n, X_vel_face_te_n, y_train, y_test)\n",
        "\n",
        "print(\"\\n=== FUSION EVALUATION (Score-level) with Velocity from Face+Hands ===\")\n",
        "for beta in [0.0, 0.25, 0.5, 0.75, 1.0]:\n",
        "    eval_score_level_fusion(beta, X_vel_face_hands_tr_n, X_vel_face_hands_te_n, y_train, y_test)\n",
        "print(\"\\n=== FUSION EVALUATION (Feature-level) with Velocity from Face+Hands ===\")\n",
        "for beta in [0.0, 0.25, 0.5, 0.75, 1.0]:\n",
        "    eval_feature_level_fusion(beta, X_vel_face_hands_tr_n, X_vel_face_hands_te_n, y_train, y_test)\n"
      ],
      "metadata": {
        "colab": {
          "base_uri": "https://localhost:8080/"
        },
        "id": "Aadvz9IPkrXc",
        "outputId": "a3a0b5e2-209c-49c1-9141-d67b5279e76f"
      },
      "execution_count": null,
      "outputs": [
        {
          "output_type": "stream",
          "name": "stdout",
          "text": [
            "=== FUSION EVALUATION (Score-level) with Velocity from Hands ===\n",
            "Score-level: β=0.00  Top-1 Accuracy: 2.63%\n",
            "Score-level: β=0.00  Top-5 Accuracy: 3.98%\n",
            "Score-level: β=0.00  Top-10 Accuracy: 5.03%\n",
            "Score-level: β=0.25  Top-1 Accuracy: 16.76%\n",
            "Score-level: β=0.25  Top-5 Accuracy: 20.13%\n",
            "Score-level: β=0.25  Top-10 Accuracy: 21.58%\n",
            "Score-level: β=0.50  Top-1 Accuracy: 16.81%\n",
            "Score-level: β=0.50  Top-5 Accuracy: 20.00%\n",
            "Score-level: β=0.50  Top-10 Accuracy: 21.88%\n",
            "Score-level: β=0.75  Top-1 Accuracy: 16.81%\n",
            "Score-level: β=0.75  Top-5 Accuracy: 20.04%\n",
            "Score-level: β=0.75  Top-10 Accuracy: 22.06%\n",
            "Score-level: β=1.00  Top-1 Accuracy: 17.20%\n",
            "Score-level: β=1.00  Top-5 Accuracy: 21.05%\n",
            "Score-level: β=1.00  Top-10 Accuracy: 22.84%\n",
            "\n",
            "=== FUSION EVALUATION (Feature-level) with Velocity from Hands ===\n",
            "Feature-level: β=0.00  Top-1 Accuracy: 2.63%\n",
            "Feature-level: β=0.00  Top-5 Accuracy: 3.98%\n",
            "Feature-level: β=0.00  Top-10 Accuracy: 5.03%\n",
            "Feature-level: β=0.25  Top-1 Accuracy: 16.02%\n",
            "Feature-level: β=0.25  Top-5 Accuracy: 18.99%\n",
            "Feature-level: β=0.25  Top-10 Accuracy: 21.01%\n",
            "Feature-level: β=0.50  Top-1 Accuracy: 16.81%\n",
            "Feature-level: β=0.50  Top-5 Accuracy: 20.00%\n",
            "Feature-level: β=0.50  Top-10 Accuracy: 21.88%\n",
            "Feature-level: β=0.75  Top-1 Accuracy: 17.24%\n",
            "Feature-level: β=0.75  Top-5 Accuracy: 20.61%\n",
            "Feature-level: β=0.75  Top-10 Accuracy: 22.63%\n",
            "Feature-level: β=1.00  Top-1 Accuracy: 17.20%\n",
            "Feature-level: β=1.00  Top-5 Accuracy: 21.05%\n",
            "Feature-level: β=1.00  Top-10 Accuracy: 22.84%\n",
            "\n",
            "=== FUSION EVALUATION (Score-level) with Velocity from Face ===\n",
            "Score-level: β=0.00  Top-1 Accuracy: 2.84%\n",
            "Score-level: β=0.00  Top-5 Accuracy: 4.64%\n",
            "Score-level: β=0.00  Top-10 Accuracy: 5.73%\n",
            "Score-level: β=0.25  Top-1 Accuracy: 14.27%\n",
            "Score-level: β=0.25  Top-5 Accuracy: 17.55%\n",
            "Score-level: β=0.25  Top-10 Accuracy: 19.69%\n",
            "Score-level: β=0.50  Top-1 Accuracy: 16.19%\n",
            "Score-level: β=0.50  Top-5 Accuracy: 20.13%\n",
            "Score-level: β=0.50  Top-10 Accuracy: 22.01%\n",
            "Score-level: β=0.75  Top-1 Accuracy: 17.20%\n",
            "Score-level: β=0.75  Top-5 Accuracy: 20.96%\n",
            "Score-level: β=0.75  Top-10 Accuracy: 22.89%\n",
            "Score-level: β=1.00  Top-1 Accuracy: 17.20%\n",
            "Score-level: β=1.00  Top-5 Accuracy: 21.05%\n",
            "Score-level: β=1.00  Top-10 Accuracy: 22.84%\n",
            "\n",
            "=== FUSION EVALUATION (Feature-level) with Velocity from Face ===\n",
            "Feature-level: β=0.00  Top-1 Accuracy: 2.89%\n",
            "Feature-level: β=0.00  Top-5 Accuracy: 4.64%\n",
            "Feature-level: β=0.00  Top-10 Accuracy: 5.78%\n",
            "Feature-level: β=0.25  Top-1 Accuracy: 12.69%\n",
            "Feature-level: β=0.25  Top-5 Accuracy: 15.40%\n",
            "Feature-level: β=0.25  Top-10 Accuracy: 17.33%\n",
            "Feature-level: β=0.50  Top-1 Accuracy: 16.19%\n",
            "Feature-level: β=0.50  Top-5 Accuracy: 20.13%\n",
            "Feature-level: β=0.50  Top-10 Accuracy: 22.01%\n",
            "Feature-level: β=0.75  Top-1 Accuracy: 17.16%\n",
            "Feature-level: β=0.75  Top-5 Accuracy: 21.05%\n",
            "Feature-level: β=0.75  Top-10 Accuracy: 23.06%\n",
            "Feature-level: β=1.00  Top-1 Accuracy: 17.20%\n",
            "Feature-level: β=1.00  Top-5 Accuracy: 21.05%\n",
            "Feature-level: β=1.00  Top-10 Accuracy: 22.84%\n",
            "\n",
            "=== FUSION EVALUATION (Score-level) with Velocity from Face+Hands ===\n",
            "Score-level: β=0.00  Top-1 Accuracy: 4.20%\n",
            "Score-level: β=0.00  Top-5 Accuracy: 5.95%\n",
            "Score-level: β=0.00  Top-10 Accuracy: 7.18%\n",
            "Score-level: β=0.25  Top-1 Accuracy: 13.44%\n",
            "Score-level: β=0.25  Top-5 Accuracy: 16.63%\n",
            "Score-level: β=0.25  Top-10 Accuracy: 18.60%\n",
            "Score-level: β=0.50  Top-1 Accuracy: 14.31%\n",
            "Score-level: β=0.50  Top-5 Accuracy: 17.51%\n",
            "Score-level: β=0.50  Top-10 Accuracy: 19.39%\n",
            "Score-level: β=0.75  Top-1 Accuracy: 14.92%\n",
            "Score-level: β=0.75  Top-5 Accuracy: 18.25%\n",
            "Score-level: β=0.75  Top-10 Accuracy: 20.18%\n",
            "Score-level: β=1.00  Top-1 Accuracy: 17.20%\n",
            "Score-level: β=1.00  Top-5 Accuracy: 21.05%\n",
            "Score-level: β=1.00  Top-10 Accuracy: 22.84%\n",
            "\n",
            "=== FUSION EVALUATION (Feature-level) with Velocity from Face+Hands ===\n",
            "Feature-level: β=0.00  Top-1 Accuracy: 4.20%\n",
            "Feature-level: β=0.00  Top-5 Accuracy: 5.95%\n",
            "Feature-level: β=0.00  Top-10 Accuracy: 7.18%\n",
            "Feature-level: β=0.25  Top-1 Accuracy: 12.25%\n",
            "Feature-level: β=0.25  Top-5 Accuracy: 14.70%\n",
            "Feature-level: β=0.25  Top-10 Accuracy: 16.72%\n",
            "Feature-level: β=0.50  Top-1 Accuracy: 14.31%\n",
            "Feature-level: β=0.50  Top-5 Accuracy: 17.51%\n",
            "Feature-level: β=0.50  Top-10 Accuracy: 19.39%\n",
            "Feature-level: β=0.75  Top-1 Accuracy: 16.81%\n",
            "Feature-level: β=0.75  Top-5 Accuracy: 20.44%\n",
            "Feature-level: β=0.75  Top-10 Accuracy: 22.23%\n",
            "Feature-level: β=1.00  Top-1 Accuracy: 17.20%\n",
            "Feature-level: β=1.00  Top-5 Accuracy: 21.05%\n",
            "Feature-level: β=1.00  Top-10 Accuracy: 22.84%\n"
          ]
        }
      ]
    },
    {
      "cell_type": "markdown",
      "source": [
        "Closer checking of different hyper-parameters. Shows velocity can very slightly push accuracy."
      ],
      "metadata": {
        "id": "gOkYyylF17al"
      }
    },
    {
      "cell_type": "code",
      "source": [
        "beta_values = np.linspace(0.75, 1.0, num=6)\n",
        "print(\"=== Evaluation: Score-level Fusion with Velocity (Hands Only) ===\")\n",
        "for beta in beta_values:\n",
        "    eval_score_level_fusion(beta, X_vel_hands_tr_n, X_vel_hands_te_n, y_train, y_test)\n",
        "\n",
        "print(\"=== Evaluation: Feature-level Fusion with Velocity (Hands Only) ===\")\n",
        "for beta in beta_values:\n",
        "    eval_feature_level_fusion(beta, X_vel_hands_tr_n, X_vel_hands_te_n, y_train, y_test)\n",
        "\n",
        "# Repeat for Face modality if desired:\n",
        "print(\"=== Evaluation: Score-level Fusion with Velocity (Face Only) ===\")\n",
        "for beta in beta_values:\n",
        "    eval_score_level_fusion(beta, X_vel_face_tr_n, X_vel_face_te_n, y_train, y_test)\n",
        "\n",
        "print(\"=== Evaluation: Feature-level Fusion with Velocity (Face Only) ===\")\n",
        "for beta in beta_values:\n",
        "    eval_feature_level_fusion(beta, X_vel_face_tr_n, X_vel_face_te_n, y_train, y_test)\n",
        "\n",
        "# And for Face+Hands:\n",
        "print(\"=== Evaluation: Score-level Fusion with Velocity (Face+Hands) ===\")\n",
        "for beta in beta_values:\n",
        "    eval_score_level_fusion(beta, X_vel_face_hands_tr_n, X_vel_face_hands_te_n, y_train, y_test)\n",
        "\n",
        "print(\"=== Evaluation: Feature-level Fusion with Velocity (Face+Hands) ===\")\n",
        "for beta in beta_values:\n",
        "    eval_feature_level_fusion(beta, X_vel_face_hands_tr_n, X_vel_face_hands_te_n, y_train, y_test)\n"
      ],
      "metadata": {
        "colab": {
          "base_uri": "https://localhost:8080/"
        },
        "id": "1uNvB-NVmfcg",
        "outputId": "f9e5b81b-865f-4f74-f9b0-280e645380df"
      },
      "execution_count": null,
      "outputs": [
        {
          "output_type": "stream",
          "name": "stdout",
          "text": [
            "=== Evaluation: Score-level Fusion with Velocity (Hands Only) ===\n",
            "Score-level: β=0.75  Top-1 Accuracy: 16.81%\n",
            "Score-level: β=0.75  Top-5 Accuracy: 20.04%\n",
            "Score-level: β=0.75  Top-10 Accuracy: 22.06%\n",
            "Score-level: β=0.80  Top-1 Accuracy: 16.81%\n",
            "Score-level: β=0.80  Top-5 Accuracy: 20.26%\n",
            "Score-level: β=0.80  Top-10 Accuracy: 22.28%\n",
            "Score-level: β=0.85  Top-1 Accuracy: 17.02%\n",
            "Score-level: β=0.85  Top-5 Accuracy: 20.48%\n",
            "Score-level: β=0.85  Top-10 Accuracy: 22.45%\n",
            "Score-level: β=0.90  Top-1 Accuracy: 17.24%\n",
            "Score-level: β=0.90  Top-5 Accuracy: 20.61%\n",
            "Score-level: β=0.90  Top-10 Accuracy: 22.63%\n",
            "Score-level: β=0.95  Top-1 Accuracy: 17.20%\n",
            "Score-level: β=0.95  Top-5 Accuracy: 20.79%\n",
            "Score-level: β=0.95  Top-10 Accuracy: 22.93%\n",
            "Score-level: β=1.00  Top-1 Accuracy: 17.20%\n",
            "Score-level: β=1.00  Top-5 Accuracy: 21.05%\n",
            "Score-level: β=1.00  Top-10 Accuracy: 22.84%\n",
            "=== Evaluation: Feature-level Fusion with Velocity (Hands Only) ===\n",
            "Feature-level: β=0.75  Top-1 Accuracy: 17.24%\n",
            "Feature-level: β=0.75  Top-5 Accuracy: 20.61%\n",
            "Feature-level: β=0.75  Top-10 Accuracy: 22.63%\n",
            "Feature-level: β=0.80  Top-1 Accuracy: 17.24%\n",
            "Feature-level: β=0.80  Top-5 Accuracy: 20.83%\n",
            "Feature-level: β=0.80  Top-10 Accuracy: 22.76%\n",
            "Feature-level: β=0.85  Top-1 Accuracy: 17.20%\n",
            "Feature-level: β=0.85  Top-5 Accuracy: 20.83%\n",
            "Feature-level: β=0.85  Top-10 Accuracy: 22.84%\n",
            "Feature-level: β=0.90  Top-1 Accuracy: 17.29%\n",
            "Feature-level: β=0.90  Top-5 Accuracy: 20.88%\n",
            "Feature-level: β=0.90  Top-10 Accuracy: 23.06%\n",
            "Feature-level: β=0.95  Top-1 Accuracy: 17.24%\n",
            "Feature-level: β=0.95  Top-5 Accuracy: 20.92%\n",
            "Feature-level: β=0.95  Top-10 Accuracy: 22.93%\n",
            "Feature-level: β=1.00  Top-1 Accuracy: 17.20%\n",
            "Feature-level: β=1.00  Top-5 Accuracy: 21.05%\n",
            "Feature-level: β=1.00  Top-10 Accuracy: 22.84%\n",
            "=== Evaluation: Score-level Fusion with Velocity (Face Only) ===\n",
            "Score-level: β=0.75  Top-1 Accuracy: 17.20%\n",
            "Score-level: β=0.75  Top-5 Accuracy: 20.96%\n",
            "Score-level: β=0.75  Top-10 Accuracy: 22.89%\n",
            "Score-level: β=0.80  Top-1 Accuracy: 17.16%\n",
            "Score-level: β=0.80  Top-5 Accuracy: 21.01%\n",
            "Score-level: β=0.80  Top-10 Accuracy: 23.02%\n",
            "Score-level: β=0.85  Top-1 Accuracy: 17.16%\n",
            "Score-level: β=0.85  Top-5 Accuracy: 21.05%\n",
            "Score-level: β=0.85  Top-10 Accuracy: 23.02%\n",
            "Score-level: β=0.90  Top-1 Accuracy: 17.16%\n",
            "Score-level: β=0.90  Top-5 Accuracy: 21.05%\n",
            "Score-level: β=0.90  Top-10 Accuracy: 23.06%\n",
            "Score-level: β=0.95  Top-1 Accuracy: 17.11%\n",
            "Score-level: β=0.95  Top-5 Accuracy: 21.05%\n",
            "Score-level: β=0.95  Top-10 Accuracy: 23.11%\n",
            "Score-level: β=1.00  Top-1 Accuracy: 17.20%\n",
            "Score-level: β=1.00  Top-5 Accuracy: 21.05%\n",
            "Score-level: β=1.00  Top-10 Accuracy: 22.84%\n",
            "=== Evaluation: Feature-level Fusion with Velocity (Face Only) ===\n",
            "Feature-level: β=0.75  Top-1 Accuracy: 17.16%\n",
            "Feature-level: β=0.75  Top-5 Accuracy: 21.05%\n",
            "Feature-level: β=0.75  Top-10 Accuracy: 23.06%\n",
            "Feature-level: β=0.80  Top-1 Accuracy: 17.07%\n",
            "Feature-level: β=0.80  Top-5 Accuracy: 21.01%\n",
            "Feature-level: β=0.80  Top-10 Accuracy: 23.11%\n",
            "Feature-level: β=0.85  Top-1 Accuracy: 17.11%\n",
            "Feature-level: β=0.85  Top-5 Accuracy: 21.05%\n",
            "Feature-level: β=0.85  Top-10 Accuracy: 23.11%\n",
            "Feature-level: β=0.90  Top-1 Accuracy: 17.20%\n",
            "Feature-level: β=0.90  Top-5 Accuracy: 21.05%\n",
            "Feature-level: β=0.90  Top-10 Accuracy: 23.02%\n",
            "Feature-level: β=0.95  Top-1 Accuracy: 17.20%\n",
            "Feature-level: β=0.95  Top-5 Accuracy: 21.05%\n",
            "Feature-level: β=0.95  Top-10 Accuracy: 22.89%\n",
            "Feature-level: β=1.00  Top-1 Accuracy: 17.20%\n",
            "Feature-level: β=1.00  Top-5 Accuracy: 21.05%\n",
            "Feature-level: β=1.00  Top-10 Accuracy: 22.84%\n",
            "=== Evaluation: Score-level Fusion with Velocity (Face+Hands) ===\n",
            "Score-level: β=0.75  Top-1 Accuracy: 14.92%\n",
            "Score-level: β=0.75  Top-5 Accuracy: 18.25%\n",
            "Score-level: β=0.75  Top-10 Accuracy: 20.18%\n",
            "Score-level: β=0.80  Top-1 Accuracy: 15.19%\n",
            "Score-level: β=0.80  Top-5 Accuracy: 18.73%\n",
            "Score-level: β=0.80  Top-10 Accuracy: 20.70%\n",
            "Score-level: β=0.85  Top-1 Accuracy: 15.89%\n",
            "Score-level: β=0.85  Top-5 Accuracy: 19.78%\n",
            "Score-level: β=0.85  Top-10 Accuracy: 21.79%\n",
            "Score-level: β=0.90  Top-1 Accuracy: 16.81%\n",
            "Score-level: β=0.90  Top-5 Accuracy: 20.44%\n",
            "Score-level: β=0.90  Top-10 Accuracy: 22.23%\n",
            "Score-level: β=0.95  Top-1 Accuracy: 17.11%\n",
            "Score-level: β=0.95  Top-5 Accuracy: 20.66%\n",
            "Score-level: β=0.95  Top-10 Accuracy: 22.63%\n",
            "Score-level: β=1.00  Top-1 Accuracy: 17.20%\n",
            "Score-level: β=1.00  Top-5 Accuracy: 21.05%\n",
            "Score-level: β=1.00  Top-10 Accuracy: 22.84%\n",
            "=== Evaluation: Feature-level Fusion with Velocity (Face+Hands) ===\n",
            "Feature-level: β=0.75  Top-1 Accuracy: 16.81%\n",
            "Feature-level: β=0.75  Top-5 Accuracy: 20.44%\n",
            "Feature-level: β=0.75  Top-10 Accuracy: 22.23%\n",
            "Feature-level: β=0.80  Top-1 Accuracy: 17.02%\n",
            "Feature-level: β=0.80  Top-5 Accuracy: 20.70%\n",
            "Feature-level: β=0.80  Top-10 Accuracy: 22.58%\n",
            "Feature-level: β=0.85  Top-1 Accuracy: 17.11%\n",
            "Feature-level: β=0.85  Top-5 Accuracy: 20.74%\n",
            "Feature-level: β=0.85  Top-10 Accuracy: 22.84%\n",
            "Feature-level: β=0.90  Top-1 Accuracy: 17.29%\n",
            "Feature-level: β=0.90  Top-5 Accuracy: 20.74%\n",
            "Feature-level: β=0.90  Top-10 Accuracy: 23.19%\n",
            "Feature-level: β=0.95  Top-1 Accuracy: 17.20%\n",
            "Feature-level: β=0.95  Top-5 Accuracy: 21.01%\n",
            "Feature-level: β=0.95  Top-10 Accuracy: 23.02%\n",
            "Feature-level: β=1.00  Top-1 Accuracy: 17.20%\n",
            "Feature-level: β=1.00  Top-5 Accuracy: 21.05%\n",
            "Feature-level: β=1.00  Top-10 Accuracy: 22.84%\n"
          ]
        }
      ]
    },
    {
      "cell_type": "code",
      "source": [],
      "metadata": {
        "id": "NFUADVYbmf9l"
      },
      "execution_count": null,
      "outputs": []
    }
  ]
}